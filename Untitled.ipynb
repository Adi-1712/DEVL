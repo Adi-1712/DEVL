{
 "cells": [
  {
   "cell_type": "code",
   "execution_count": 7,
   "id": "d52dec07-5ffc-4c81-a69a-0845c5f0322b",
   "metadata": {},
   "outputs": [
    {
     "name": "stdout",
     "output_type": "stream",
     "text": [
      "[1 2 3 4 5]\n"
     ]
    }
   ],
   "source": [
    "import numpy as np\n",
    "import math\n",
    "arr=np.array([1,2,3,4,5])\n",
    "print(arr)\n"
   ]
  },
  {
   "cell_type": "code",
   "execution_count": 15,
   "id": "3a311453-59b3-4c61-8f74-0413b04cbe6f",
   "metadata": {},
   "outputs": [
    {
     "name": "stdout",
     "output_type": "stream",
     "text": [
      "[1 2 3 4]\n"
     ]
    }
   ],
   "source": [
    "import numpy as np\n",
    "arr=np.array([1,2,3,4])\n",
    "print(arr)\n"
   ]
  },
  {
   "cell_type": "code",
   "execution_count": 14,
   "id": "6d92da84-caba-40b0-804b-bec1ed3551cf",
   "metadata": {},
   "outputs": [
    {
     "name": "stdout",
     "output_type": "stream",
     "text": [
      "42\n",
      "[1 2 3 4 5]\n",
      "[[1 2 3]\n",
      " [4 5 6]]\n",
      "[[[1 2 3]\n",
      "  [4 5 6]]\n",
      "\n",
      " [[7 8 9]\n",
      "  [1 2 3]]]\n",
      "0\n",
      "1\n",
      "2\n",
      "3\n"
     ]
    }
   ],
   "source": [
    "import numpy as np\n",
    "a=np.array(42)\n",
    "b=np.array([1,2,3,4,5])\n",
    "c=np.array([[1,2,3],[4,5,6]])\n",
    "d=np.array([[[1,2,3],[4,5,6]],[[7,8,9],[1,2,3]]])\n",
    "print(a)\n",
    "print(b)\n",
    "print(c)\n",
    "print(d)\n",
    "\n",
    "print(a.ndim)\n",
    "print(b.ndim)\n",
    "print(c.ndim)\n",
    "print(d.ndim)"
   ]
  },
  {
   "cell_type": "code",
   "execution_count": 18,
   "id": "69583eb6-fcfe-4b84-8683-8a987036160a",
   "metadata": {},
   "outputs": [
    {
     "name": "stdout",
     "output_type": "stream",
     "text": [
      "[[1 2 3]\n",
      " [4 5 6]]\n",
      "[[1 2 3]\n",
      " [4 5 6]]\n",
      "Mul\n",
      "[[ 1  4  9]\n",
      " [16 25 36]]\n",
      "Div\n",
      "[[1. 1. 1.]\n",
      " [1. 1. 1.]]\n",
      "Add\n",
      "[[ 2  4  6]\n",
      " [ 8 10 12]]\n",
      "Sub\n",
      "[[0 0 0]\n",
      " [0 0 0]]\n"
     ]
    }
   ],
   "source": [
    "import numpy as np\n",
    "\n",
    "b=np.array([[1,2,3],[4,5,6]])\n",
    "c=np.array([[1,2,3],[4,5,6]])\n",
    "print(b)\n",
    "print(c)\n",
    "print(\"Mul\")\n",
    "print(b*c)\n",
    "print(\"Div\")\n",
    "print(b/c)\n",
    "print(\"Add\")\n",
    "print(b+c)\n",
    "print(\"Sub\")\n",
    "print(b-c)"
   ]
  },
  {
   "cell_type": "code",
   "execution_count": 20,
   "id": "fc0bd5c4-a832-410b-9a43-a00dfc795b7e",
   "metadata": {},
   "outputs": [
    {
     "name": "stdout",
     "output_type": "stream",
     "text": [
      "[[ 9 12]\n",
      " [24 33]]\n"
     ]
    }
   ],
   "source": [
    "import numpy as np\n",
    "\n",
    "b=np.array([[1,2],[4,5]])\n",
    "c=np.array([[1,2],[4,5]])\n",
    "result_mul=np.dot(b,c)\n",
    "print(result_mul)"
   ]
  },
  {
   "cell_type": "code",
   "execution_count": 21,
   "id": "b80fce65-7e0c-46ca-b5da-f473c3d1fa3b",
   "metadata": {},
   "outputs": [
    {
     "name": "stdout",
     "output_type": "stream",
     "text": [
      "Original 1D Array: [ 5  8 22  9 33]\n",
      "Sliced 1D Array w/o interval: [22  9 33]\n",
      "Sliced 1D Array w interval: [ 5 22]\n",
      "Original 2D Array: [[ 2  4 66  7]\n",
      " [88  8 22  5]\n",
      " [ 9  2 11  8]]\n",
      "Sliced 2D Array : [[ 9  2 11  8]]\n",
      "Sliced 2D Array : [ 2 11]\n"
     ]
    }
   ],
   "source": [
    "import numpy as np\n",
    "lst1=[5,8,22,9,33]\n",
    "lst2=[[2,4,66,7],[88,8,22,5],[9,2,11,8]]\n",
    "lst3=[[[6,0,2],[77,33,66]],[[9,0,3],[66,33,6]]]\n",
    "a1=np.array(lst1)\n",
    "a2=np.array(lst2)\n",
    "a3=np.array(lst3)\n",
    "print(\"Original 1D Array:\",a1)\n",
    "print(\"Sliced 1D Array w/o interval:\",a1[2: ])\n",
    "print(\"Sliced 1D Array w interval:\",a1[ :4:2])\n",
    "\n",
    "print(\"Original 2D Array:\",a2)\n",
    "print(\"Sliced 2D Array :\",a2[2: ])\n",
    "print(\"Sliced 2D Array :\",a2[2,1:3])"
   ]
  },
  {
   "cell_type": "code",
   "execution_count": 23,
   "id": "8e9e78f1-f364-41d5-ab38-44aa0262b4e2",
   "metadata": {},
   "outputs": [
    {
     "name": "stdout",
     "output_type": "stream",
     "text": [
      "[1 2 9 4]\n",
      "[1 2 3 4]\n"
     ]
    }
   ],
   "source": [
    "arr=np.array([1,2,3,4])\n",
    "x=arr.copy()\n",
    "y=arr.view()\n",
    "arr[2]=9\n",
    "print(arr)\n",
    "print(x)\n",
    "\n"
   ]
  },
  {
   "cell_type": "code",
   "execution_count": 24,
   "id": "baa6d178-a3c2-450a-b7fb-eb5375c86ee6",
   "metadata": {},
   "outputs": [
    {
     "name": "stdout",
     "output_type": "stream",
     "text": [
      "(2, 4)\n"
     ]
    }
   ],
   "source": [
    "arr=np.array([[1,2,3,4],[5,6,7,8]])\n",
    "print(arr.shape)\n"
   ]
  },
  {
   "cell_type": "code",
   "execution_count": 32,
   "id": "76c0b88a-bd03-414d-bce7-40a01742e669",
   "metadata": {},
   "outputs": [
    {
     "name": "stdout",
     "output_type": "stream",
     "text": [
      "[[[1 2]\n",
      "  [3 4]]\n",
      "\n",
      " [[5 6]\n",
      "  [7 8]]]\n"
     ]
    }
   ],
   "source": [
    "rr=np.array([1,2,3,4,5,6,7,8])\n",
    "arr=rr.reshape(2,2,2)\n",
    "print(arr)"
   ]
  },
  {
   "cell_type": "code",
   "execution_count": null,
   "id": "f50742bb-4bb8-455c-b89e-cfdfd35f787a",
   "metadata": {},
   "outputs": [],
   "source": []
  }
 ],
 "metadata": {
  "kernelspec": {
   "display_name": "Python 3 (ipykernel)",
   "language": "python",
   "name": "python3"
  },
  "language_info": {
   "codemirror_mode": {
    "name": "ipython",
    "version": 3
   },
   "file_extension": ".py",
   "mimetype": "text/x-python",
   "name": "python",
   "nbconvert_exporter": "python",
   "pygments_lexer": "ipython3",
   "version": "3.10.12"
  }
 },
 "nbformat": 4,
 "nbformat_minor": 5
}

{
 "cells": [
  {
   "cell_type": "code",
   "execution_count": 26,
   "id": "82f3d0d0-1941-4a16-9d59-616cf03653b8",
   "metadata": {},
   "outputs": [
    {
     "name": "stdin",
     "output_type": "stream",
     "text": [
      "Enter your choice:\n",
      " 1.Add Student Data\n",
      "2. Update Student Data\n",
      "3. Delete Student Data\n",
      "4. Find Max Score\n",
      "5. Exit\n",
      " 1\n",
      "Enter name of student Karan\n",
      "Enter score:  56\n"
     ]
    },
    {
     "name": "stdout",
     "output_type": "stream",
     "text": [
      "Added student Karan with score 56\n"
     ]
    }
   ],
   "source": [
    "student_scores = {}\n",
    "\n",
    "def add_student(name, score):\n",
    "    if name in student_scores:\n",
    "        print(f\"Student {name} already exist\")\n",
    "    else:\n",
    "        student_scores[name] = score\n",
    "        print(f\"Added student {name} with score {score}\")\n",
    "\n",
    "def update_score(name, score):\n",
    "    if name in student_scores:\n",
    "        student_scores[name] = score\n",
    "        print(f\"Updated {name} score to {score}\")\n",
    "    else:\n",
    "        print(\"Student name does not exist\")\n",
    "\n",
    "def delete_student(name):\n",
    "    if name in student_scores:\n",
    "        del student_scores[name]\n",
    "        print(\"Deleted student name\")\n",
    "    else:\n",
    "        print(\"Student name does not exist\")\n",
    "\n",
    "def max_score():\n",
    "    if not student_scores:\n",
    "        print(\"No students in record\")\n",
    "        return None\n",
    "\n",
    "    highest_score_student = max(student_scores, key=student_scores.get)\n",
    "    highest_score = student_scores[highest_score_student]\n",
    "\n",
    "    print(f\"Student with highest score is {highest_score_student}\")\n",
    "    print(f\"Max score of student is {highest_score}\")\n",
    "    return highest_score_student, highest_score\n",
    "\n",
    "#add_student(\"Karan\", 80)\n",
    "#add_student(\"Siddhant\", 85)\n",
    "#update_score(\"Karan\", 83)\n",
    "#max_score()\n",
    "#delete_student(\"Siddhant\")\n",
    "\n",
    "\n",
    "\n",
    "choice = int(input(\"Enter your choice:\\n1.Add Student Data\\n2. Update Student Data\\n3. Delete Student Data\\n4. Find Max Score\\n5. Exit\\n\"))\n",
    "\n",
    "match choice:\n",
    "    case 1:\n",
    "        name = input(\"Enter name of student: \")\n",
    "        score = int(input(\"Enter score: \"))\n",
    "        add_student(name, score)\n",
    "    case 2:\n",
    "        name = input(\"Enter name of student: \")\n",
    "        score = int(input(\"Enter score: \"))\n",
    "        update_score(name, score)\n",
    "    case 3:\n",
    "        name = input(\"Enter name of student: \")\n",
    "        delete_student(name)\n",
    "    case 4:\n",
    "        max_score()\n",
    "    case 5:\n",
    "        print(\"Exit\")\n",
    "        \n",
    "#max_score()\n",
    "\n"
   ]
  },
  {
   "cell_type": "code",
   "execution_count": null,
   "id": "61894231-80ca-4a1d-afbb-718ba76ba199",
   "metadata": {},
   "outputs": [],
   "source": []
  }
 ],
 "metadata": {
  "kernelspec": {
   "display_name": "Python 3 (ipykernel)",
   "language": "python",
   "name": "python3"
  },
  "language_info": {
   "codemirror_mode": {
    "name": "ipython",
    "version": 3
   },
   "file_extension": ".py",
   "mimetype": "text/x-python",
   "name": "python",
   "nbconvert_exporter": "python",
   "pygments_lexer": "ipython3",
   "version": "3.10.12"
  }
 },
 "nbformat": 4,
 "nbformat_minor": 5
}
